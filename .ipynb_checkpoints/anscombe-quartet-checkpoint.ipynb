{
 "cells": [
  {
   "cell_type": "markdown",
   "metadata": {},
   "source": [
    "## Anscombe's Quartet"
   ]
  },
  {
   "cell_type": "markdown",
   "metadata": {},
   "source": [
    "Constructed by statistician Francis Anscombe in 1973, the Anscombe's quartet consists of four datsets of eleven points each containing X and Y data that have close to identical and in some cases exact descriptive statistics. That is to say their means,variances and standard deviations, correlations between x and y along with regression lines are all either very similiar or exact depending on decimal places of significance. When graphed, these datasets look very different to each other.\n",
    "\n",
    "The quartet was first published by the american statistical association on Feb 1973, in the The American Statistician, volume 27 pp 17-21 and titled 'Graphs in Statistical Analysis'. In it, Anscombe points out that  \n",
    "graphs are essential to good statistical analysis.It seems that at that time, graphs were considered 'rough' while numerical calculations were considered 'exact'. Anscombe wanted to dispel these notions and show that analysis should be conducted using both as the data may contain outliers or other charateristics that should be studied/reviewed and that will lead to better understanding of the data and results. False data assumpions can be corrected and resulting calculations will be more appropiate."
   ]
  },
  {
   "cell_type": "markdown",
   "metadata": {},
   "source": [
    "## How did Anscombe create the quartet ?"
   ]
  },
  {
   "cell_type": "markdown",
   "metadata": {},
   "source": [
    "It is not known how Anscombe created the datasets. He did not reveal this.\n",
    "To speculate, it might be logical to think that he created the dataset using a computer. Anscombe, in the same published paper, stated that he himself habitually created plots as described thoughtout his paper at an APL terminal (APL is/was a computer language developed in the 1960's and used extensively at IBM in that period). So it's establised that he can program and use a computer. It's doubtful that he created the dataset by hand or from scratch simply because of complexity. A good guess would be that he already had datasets, changed them incrementally on a computer and observed the results of the changes until a desired outcome was found. He also had the examples to begin with. He was definately aware that this was occuring. In the same published paper he made reference to the fact that forms of the effects seen in his quartet are often encountered in statistical analysis (albeit less extreme). He also references a study paper (to be published elsewhere), that documents the per capita expenditures on public school education in each of the fifty states in the US, together with DC. It was found that the expenditures had staisfactory linear regression but Alaska was different with predictor values far removed from the other states. Alaska was an oulier as such but contributed to the overall result.\n",
    "\n",
    "Finally, both he and John Tukey were married to sisters. They were also friends. Tukey himself was a big supporter of using graphs prior to 1973. Anscombe actually referenced three published papers by Tukey in the quartet publication. It's possible that Tukey had some influence in the concept of the quartet."
   ]
  }
 ],
 "metadata": {
  "kernelspec": {
   "display_name": "Python 3",
   "language": "python",
   "name": "python3"
  },
  "language_info": {
   "codemirror_mode": {
    "name": "ipython",
    "version": 3
   },
   "file_extension": ".py",
   "mimetype": "text/x-python",
   "name": "python",
   "nbconvert_exporter": "python",
   "pygments_lexer": "ipython3",
   "version": "3.6.6"
  }
 },
 "nbformat": 4,
 "nbformat_minor": 2
}
